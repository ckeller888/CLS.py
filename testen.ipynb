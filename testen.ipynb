{
 "cells": [
  {
   "cell_type": "code",
   "execution_count": 9,
   "id": "b43019b6",
   "metadata": {},
   "outputs": [
    {
     "data": {
      "text/plain": [
       "{'properties': {'uuid': 'str:38',\n",
       "  'datum_aenderung': 'datetime',\n",
       "  'datum_erstellung': 'datetime',\n",
       "  'erstellung_jahr': 'int32',\n",
       "  'erstellung_monat': 'int32',\n",
       "  'grund_aenderung': 'str:20',\n",
       "  'herkunft': 'str:50',\n",
       "  'herkunft_jahr': 'int32',\n",
       "  'herkunft_monat': 'int32',\n",
       "  'revision_jahr': 'int32',\n",
       "  'revision_monat': 'int32',\n",
       "  'revision_qualitaet': 'str:20',\n",
       "  'objektart': 'str:50',\n",
       "  'kantonsnummer': 'int32',\n",
       "  'see_flaeche': 'float',\n",
       "  'kantonsflaeche': 'float',\n",
       "  'name': 'str:100',\n",
       "  'icc': 'str:5',\n",
       "  'einwohnerzahl': 'int32'},\n",
       " 'geometry': '3D MultiPolygon'}"
      ]
     },
     "execution_count": 9,
     "metadata": {},
     "output_type": "execute_result"
    }
   ],
   "source": [
    "import fiona\n",
    "import zipfile\n",
    "\n",
    "with zipfile.ZipFile(\n",
    "    \"geodata/swissboundaries3d_2025-04_2056_5728.gpkg.zip\", \"r\"\n",
    ") as zip_ref:\n",
    "    zip_ref.extractall(\"geodata\")\n",
    "\n",
    "filename = \"geodata/swissBOUNDARIES3D_1_5_LV95_LN02.gpkg\"\n",
    "c = fiona.open(filename, \"r\", layer=\"tlm_kantonsgebiet\")\n",
    "\n",
    "c.schema"
   ]
  }
 ],
 "metadata": {
  "kernelspec": {
   "display_name": "map-game",
   "language": "python",
   "name": "python3"
  },
  "language_info": {
   "codemirror_mode": {
    "name": "ipython",
    "version": 3
   },
   "file_extension": ".py",
   "mimetype": "text/x-python",
   "name": "python",
   "nbconvert_exporter": "python",
   "pygments_lexer": "ipython3",
   "version": "3.11.12"
  }
 },
 "nbformat": 4,
 "nbformat_minor": 5
}
